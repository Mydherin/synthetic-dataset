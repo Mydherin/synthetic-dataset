{
 "cells": [
  {
   "cell_type": "markdown",
   "metadata": {},
   "source": [
    "# KDE Dataset Generation"
   ]
  },
  {
   "cell_type": "markdown",
   "metadata": {},
   "source": [
    "## Purpose\n",
    "\n",
    "We want to generate a new dataset from a dataset which can be smaller and/or bigger than the original dataset.\n",
    "\n",
    "This dataset also must be equivalent to the original which means that it must keep the same information which is contained in the original.\n",
    "\n",
    "We will believe that the dataset \"essence\" is contained in attribute and category distributions so we will estimate `Probabily Density Functions` (PDFs) from the original dataset using `Kernel Density Estimation` (KDE). The new dataset will be built from the original `PDFs`."
   ]
  },
  {
   "cell_type": "markdown",
   "metadata": {},
   "source": [
    "## Test Dataset Generation\n",
    "\n",
    "We will build a custom dataset to simplify the analysis, development and testing.\n",
    "\n",
    "We need a dataset with only one attribute and two categories. Besides, the category distributions must show a little overlap between them.\n",
    "\n",
    "We will generate a test dataset with 200 instances (100 instances per category).\n",
    "\n",
    "Finally, we will plot the dataset distribution (attribute) per category."
   ]
  },
  {
   "cell_type": "code",
   "execution_count": 1,
   "metadata": {},
   "outputs": [
    {
     "name": "stdout",
     "output_type": "stream",
     "text": [
      "Figure 1: Dataset distribution by category\n"
     ]
    },
    {
     "data": {
      "image/png": "[encoded data removed]",
      "text/plain": [
       "<Figure size 432x288 with 1 Axes>"
      ]
     },
     "metadata": {
      "needs_background": "light"
     },
     "output_type": "display_data"
    }
   ],
   "source": [
    "from kde_dataset_generator import dataset\n",
    "\n",
    "# Dataset params\n",
    "size = 200\n",
    "n_categories = 2\n",
    "seed = 8\n",
    "\n",
    "# Generate df\n",
    "df = dataset.generate_univariate_dataset(size, n_categories, seed)\n",
    "\n",
    "# Plot df\n",
    "print(\"Figure 1: Dataset distribution by category\")\n",
    "dataset.plot_univariate(df)\n"
   ]
  },
  {
   "cell_type": "markdown",
   "metadata": {},
   "source": [
    "Looking at the chart we can conclude that the test dataset was generated correclty. Even we can see the little overlap."
   ]
  },
  {
   "cell_type": "markdown",
   "metadata": {},
   "source": [
    "## KDEs\n",
    "\n",
    "We need to get the `KDEs` from the dataset distributions to estimate `PDFs`.\n",
    "\n",
    "We will always generate as many `KDEs` as there are categories. We will take instances associated to a specific category and build the `KDE` from them. Each instance will keep all attributes. That means `KDEs` are multidimensional (one dimension per attribute).\n",
    "\n",
    "For this case, we will calculate two `KDEs` (1 for category `0`, 1 for category `1`)."
   ]
  },
  {
   "cell_type": "code",
   "execution_count": 2,
   "metadata": {},
   "outputs": [],
   "source": [
    "from kde_dataset_generator import kde \n",
    "\n",
    "# Caculate KDEs\n",
    "kdes, ranges = kde.calculate_kdes(df)"
   ]
  },
  {
   "cell_type": "markdown",
   "metadata": {},
   "source": [
    "To make sure `PDFs` estimation are right, we will plot category distributions using the previous calculated `KDEs`."
   ]
  },
  {
   "cell_type": "code",
   "execution_count": 3,
   "metadata": {},
   "outputs": [
    {
     "name": "stdout",
     "output_type": "stream",
     "text": [
      "Figure 2: Dataset distributions by category using KDEs based\n"
     ]
    },
    {
     "data": {
      "image/png": "[encoded data removed]",
      "text/plain": [
       "<Figure size 432x288 with 1 Axes>"
      ]
     },
     "metadata": {
      "needs_background": "light"
     },
     "output_type": "display_data"
    }
   ],
   "source": [
    "print(\"Figure 2: Dataset distributions by category using KDEs based\")\n",
    "kde.plot_univariate(df, kdes)"
   ]
  },
  {
   "cell_type": "markdown",
   "metadata": {},
   "source": [
    "The distributions represented in charts are the same, so we concludes that `KDEs` are right."
   ]
  },
  {
   "cell_type": "markdown",
   "metadata": {},
   "source": [
    "# The method\n",
    "\n",
    "To generate the new dataset we will generate instances randomly and label the new instances using previous `KDEs`.\n",
    "\n",
    "The possible attribute values of each instance must be contained in attribute intervals (one interval per attribute) which have been calculated from original attribute values.\n",
    "\n",
    "Once a new instance is generated we will estimate its density using each `KDE`. We will set the label associated to the `KDE` that gives biggest density. We will repeat this process until reach the amount of instances per category which have been defined previously. Instances associate to a category which is full will be discard.\n",
    "\n",
    "The minimun amount of instances per category is a parameter which depends of the dataset. To optimize this parameter we will need an another study. We will test with different values until getting enough instances to describe correctly each category distribution. We will check it comparing the charts.\n",
    "\n",
    "We are going to define attribute intervals (just one)."
   ]
  },
  {
   "cell_type": "code",
   "execution_count": 4,
   "metadata": {},
   "outputs": [],
   "source": [
    "# Get attribute intervals\n",
    "attribute_intervals = dataset.attribute_intervals(df)"
   ]
  },
  {
   "cell_type": "markdown",
   "metadata": {},
   "source": [
    "We are going to generate instances and label it until reach the target amount of new instances per category."
   ]
  },
  {
   "cell_type": "code",
   "execution_count": 5,
   "metadata": {},
   "outputs": [],
   "source": [
    "\n",
    "# Define amount of new instances per category\n",
    "n_instances = 1000\n",
    "# Build new dataset\n",
    "new_df = kde.random_generation(n_instances, kdes, attribute_intervals, df.columns, seed)"
   ]
  },
  {
   "cell_type": "markdown",
   "metadata": {},
   "source": [
    "Now we will plot the new dataset distribution and compare it with the original dataset distribution."
   ]
  },
  {
   "cell_type": "code",
   "execution_count": 6,
   "metadata": {},
   "outputs": [
    {
     "name": "stdout",
     "output_type": "stream",
     "text": [
      "Figure 3: New Dataset distributions by category\n"
     ]
    },
    {
     "data": {
      "image/png": "[encoded data removed]",
      "text/plain": [
       "<Figure size 432x288 with 1 Axes>"
      ]
     },
     "metadata": {
      "needs_background": "light"
     },
     "output_type": "display_data"
    }
   ],
   "source": [
    "# Calculate new kdes of the new dataset\n",
    "new_kdes = kde.calculate_kdes(new_df)[0]\n",
    "\n",
    "# Plot new dataset\n",
    "print(\"Figure 3: New Dataset distributions by category\")\n",
    "kde.plot_univariate(new_df, new_kdes, ranges)"
   ]
  },
  {
   "cell_type": "markdown",
   "metadata": {},
   "source": [
    "The new dataset distribution is significantly different.\n",
    "\n",
    "We can see that the random instances are well labeled. But if we compare each category distribution with the original category distribution we will see that is not. But \n",
    "\n",
    "The reason behind of these differences may be that all attribute values have the same probability of appearing but in distributions some values must be more propability of appearing than others.\n",
    "\n",
    "This version of the method does not converge."
   ]
  }
 ],
 "metadata": {
  "kernelspec": {
   "display_name": "Python 3.10.5 ('venv_kde_dataset_generator': venv)",
   "language": "python",
   "name": "python3"
  },
  "language_info": {
   "codemirror_mode": {
    "name": "ipython",
    "version": 3
   },
   "file_extension": ".py",
   "mimetype": "text/x-python",
   "name": "python",
   "nbconvert_exporter": "python",
   "pygments_lexer": "ipython3",
   "version": "3.10.5"
  },
  "orig_nbformat": 4,
  "vscode": {
   "interpreter": {
    "hash": "4d125740c8b74e0d2eda086c63230a1bb446a983fac9e9da4b88b1eb957b5a48"
   }
  }
 },
 "nbformat": 4,
 "nbformat_minor": 2
}
