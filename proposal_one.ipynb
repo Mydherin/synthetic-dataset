{
 "cells": [
  {
   "cell_type": "markdown",
   "metadata": {},
   "source": [
    "# KDE Dataset Generation"
   ]
  },
  {
   "cell_type": "markdown",
   "metadata": {},
   "source": [
    "## Purpose\n",
    "\n",
    "We want to generate a new dataset from a dataset which can be smaller and/or bigger than the original dataset.\n",
    "\n",
    "This dataset also must be equivalent to the original which means that it must keep the same information which is contained in the original.\n",
    "\n",
    "We will believe that the dataset \"essence\" is contained in attribute and category distributions so we will estimate `Probabily Density Functions` (PDFs) from the original dataset using `Kernel Density Estimation` (KDE). The new dataset will be built from the original `PDFs`."
   ]
  },
  {
   "cell_type": "markdown",
   "metadata": {},
   "source": [
    "## Test Dataset Generation\n",
    "\n",
    "We will build a custom dataset to simplify the analysis, development and testing.\n",
    "\n",
    "We need a dataset with only one attribute and two categories. Besides, the category distributions must show a little overlap between them.\n",
    "\n",
    "We will generate a test dataset with 200 instances (100 instances per category).\n",
    "\n",
    "Finally, we will plot the dataset distribution (attribute) per category."
   ]
  },
  {
   "cell_type": "code",
   "execution_count": 1,
   "metadata": {},
   "outputs": [
    {
     "name": "stdout",
     "output_type": "stream",
     "text": [
      "Figure 1: Dataset distribution by category\n"
     ]
    },
    {
     "data": {
      "image/png": "[encoded data removed]",
      "text/plain": [
       "<Figure size 432x288 with 1 Axes>"
      ]
     },
     "metadata": {
      "needs_background": "light"
     },
     "output_type": "display_data"
    }
   ],
   "source": [
    "from kde_dataset_generator import dataset\n",
    "\n",
    "# Dataset params\n",
    "size = 200\n",
    "n_categories = 2\n",
    "seed = 8\n",
    "\n",
    "# Generate df\n",
    "df = dataset.generate_univariate_dataset(size, n_categories, seed)\n",
    "\n",
    "# Plot df\n",
    "print(\"Figure 1: Dataset distribution by category\")\n",
    "dataset.plot_univariate(df)\n"
   ]
  },
  {
   "cell_type": "markdown",
   "metadata": {},
   "source": [
    "Looking at the chart we can conclude that the test dataset was generated correclty. Even we can see the little overlap."
   ]
  },
  {
   "cell_type": "markdown",
   "metadata": {},
   "source": [
    "## KDEs\n",
    "\n",
    "We need to get the `KDEs` from the dataset distributions to estimate `PDFs`.\n",
    "\n",
    "We will always generate as many `KDEs` as there are categories. We will take instances associated to a specific category and build the `KDE` from them. Each instance will keep all attributes. That means `KDEs` are multidimensional (one dimension per attribute).\n",
    "\n",
    "For this case, we will calculate two `KDEs` (1 for category `0`, 1 for category `1`)."
   ]
  },
  {
   "cell_type": "code",
   "execution_count": 2,
   "metadata": {},
   "outputs": [],
   "source": [
    "from kde_dataset_generator import kde \n",
    "\n",
    "# Caculate KDEs\n",
    "kdes = kde.calculate_kdes(df)[0]"
   ]
  },
  {
   "cell_type": "markdown",
   "metadata": {},
   "source": [
    "To make sure `PDFs` estimation are right, we will plot category distributions using the previous calculated `KDEs`."
   ]
  },
  {
   "cell_type": "code",
   "execution_count": 3,
   "metadata": {},
   "outputs": [
    {
     "name": "stdout",
     "output_type": "stream",
     "text": [
      "Figure 2: Dataset distributions by category using KDEs based\n"
     ]
    },
    {
     "data": {
      "image/png": "[encoded data removed]",
      "text/plain": [
       "<Figure size 432x288 with 1 Axes>"
      ]
     },
     "metadata": {
      "needs_background": "light"
     },
     "output_type": "display_data"
    }
   ],
   "source": [
    "print(\"Figure 2: Dataset distributions by category using KDEs based\")\n",
    "kde.plot_univariate(df, kdes)"
   ]
  },
  {
   "cell_type": "markdown",
   "metadata": {},
   "source": [
    "The distributions represented in charts are the same, so we concludes that `KDEs` are right."
   ]
  },
  {
   "cell_type": "markdown",
   "metadata": {},
   "source": [
    "# The method\n",
    "\n",
    "To generate the new dataset we will generate instances randomly and label the new instances using previous `KDEs`.\n",
    "\n",
    "The possible attribute values of each instance must be contained in attribute intervals (one interval per attribute) which have been calculated from original attribute values.\n",
    "\n",
    "Once a new instance is generated we will estimate its density using each `KDE`. We will set the label associated to the `KDE` that gives biggest density. We will repeat this process until reach the amount of instances per category which have been defined previously. Instances associate to a category which is full will be discard.\n",
    "\n",
    "The minimun amount of instances per category is a parameter which depends of the dataset. To optimize this parameter we will need an another study. We will test with different values until getting enough instances to describe correctly each category distribution. We will check it comparing the charts.\n",
    "\n",
    "We are going to define attribute intervals (just one)."
   ]
  },
  {
   "cell_type": "code",
   "execution_count": 4,
   "metadata": {},
   "outputs": [],
   "source": [
    "# Get attribute intervals\n",
    "attribute_intervals = dataset.attribute_intervals(df)"
   ]
  },
  {
   "cell_type": "markdown",
   "metadata": {},
   "source": [
    "We are going to generate instances and label it until reach the target amount of new instances per category."
   ]
  },
  {
   "cell_type": "code",
   "execution_count": 5,
   "metadata": {},
   "outputs": [
    {
     "name": "stdout",
     "output_type": "stream",
     "text": [
      "             x  category\n",
      "0     6.074789         0\n",
      "1     5.303901         0\n",
      "2     4.987899         0\n",
      "3     6.234037         0\n",
      "4     5.941861         0\n",
      "..         ...       ...\n",
      "995  11.989140         1\n",
      "996  11.786689         1\n",
      "997   8.897383         1\n",
      "998  11.415039         1\n",
      "999   9.277397         1\n",
      "\n",
      "[1000 rows x 2 columns]\n"
     ]
    },
    {
     "ename": "NameError",
     "evalue": "name 'exit' is not defined",
     "output_type": "error",
     "traceback": [
      "\u001b[0;31m---------------------------------------------------------------------------\u001b[0m",
      "\u001b[0;31mNameError\u001b[0m                                 Traceback (most recent call last)",
      "\u001b[1;32m/home/main/projects/kde-dataset-generator/proposal_one.ipynb Cell 14'\u001b[0m in \u001b[0;36m<cell line: 4>\u001b[0;34m()\u001b[0m\n\u001b[1;32m      <a href='vscode-notebook-cell:/home/main/projects/kde-dataset-generator/proposal_one.ipynb#ch0000017?line=1'>2</a>\u001b[0m n_instances \u001b[39m=\u001b[39m \u001b[39m500\u001b[39m\n\u001b[1;32m      <a href='vscode-notebook-cell:/home/main/projects/kde-dataset-generator/proposal_one.ipynb#ch0000017?line=2'>3</a>\u001b[0m \u001b[39m# Build new dataset\u001b[39;00m\n\u001b[0;32m----> <a href='vscode-notebook-cell:/home/main/projects/kde-dataset-generator/proposal_one.ipynb#ch0000017?line=3'>4</a>\u001b[0m new_df \u001b[39m=\u001b[39m kde\u001b[39m.\u001b[39;49mrandom_generation(n_instances, kdes, attribute_intervals, df\u001b[39m.\u001b[39;49mcolumns, seed)\n",
      "File \u001b[0;32m~/projects/kde-dataset-generator/kde_dataset_generator/kde.py:118\u001b[0m, in \u001b[0;36mrandom_generation\u001b[0;34m(n_instances, kdes, attribute_intervals, columns, seed)\u001b[0m\n\u001b[1;32m    <a href='file:///home/main/projects/kde-dataset-generator/kde_dataset_generator/kde.py?line=115'>116</a>\u001b[0m new_df \u001b[39m=\u001b[39m pd\u001b[39m.\u001b[39mDataFrame(data\u001b[39m=\u001b[39mnew_df, columns\u001b[39m=\u001b[39mcolumns)\n\u001b[1;32m    <a href='file:///home/main/projects/kde-dataset-generator/kde_dataset_generator/kde.py?line=116'>117</a>\u001b[0m \u001b[39mprint\u001b[39m(new_df)\n\u001b[0;32m--> <a href='file:///home/main/projects/kde-dataset-generator/kde_dataset_generator/kde.py?line=117'>118</a>\u001b[0m exit(\u001b[39m1\u001b[39m)\n\u001b[1;32m    <a href='file:///home/main/projects/kde-dataset-generator/kde_dataset_generator/kde.py?line=118'>119</a>\u001b[0m \u001b[39mreturn\u001b[39;00m new_df\n",
      "\u001b[0;31mNameError\u001b[0m: name 'exit' is not defined"
     ]
    }
   ],
   "source": [
    "\n",
    "# Define amount of new instances per category\n",
    "n_instances = 500\n",
    "# Build new dataset\n",
    "new_df = kde.random_generation(n_instances, kdes, attribute_intervals, df.columns, seed)"
   ]
  }
 ],
 "metadata": {
  "kernelspec": {
   "display_name": "Python 3.10.5 ('venv_kde_dataset_generator': venv)",
   "language": "python",
   "name": "python3"
  },
  "language_info": {
   "codemirror_mode": {
    "name": "ipython",
    "version": 3
   },
   "file_extension": ".py",
   "mimetype": "text/x-python",
   "name": "python",
   "nbconvert_exporter": "python",
   "pygments_lexer": "ipython3",
   "version": "3.10.5"
  },
  "orig_nbformat": 4,
  "vscode": {
   "interpreter": {
    "hash": "4d125740c8b74e0d2eda086c63230a1bb446a983fac9e9da4b88b1eb957b5a48"
   }
  }
 },
 "nbformat": 4,
 "nbformat_minor": 2
}
