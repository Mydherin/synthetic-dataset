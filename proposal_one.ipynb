{
 "cells": [
  {
   "cell_type": "markdown",
   "metadata": {},
   "source": [
    "# KDE Dataset Generation"
   ]
  },
  {
   "cell_type": "markdown",
   "metadata": {},
   "source": [
    "## Purpose\n",
    "\n",
    "We want to generate a new dataset from a dataset which can be smaller and/or bigger than the original dataset.\n",
    "\n",
    "This dataset also must be equivalent to the original which means that it must keep the same information which is contained in the original.\n",
    "\n",
    "We will believe that the dataset \"essence\" is contained in attribute and category distributions so we will estimate `Probabily Density Functions` (PDFs) from the original dataset using `Kernel Density Estimation` (KDE). The new dataset will be built from the original `PDFs`."
   ]
  },
  {
   "cell_type": "markdown",
   "metadata": {},
   "source": [
    "## Test Dataset Generation\n",
    "\n",
    "We will build a custom dataset to simplify the analysis, development and testing.\n",
    "\n",
    "We need a dataset with only one attribute and two categories. Besides, the category distributions must show a little overlap between them.\n",
    "\n",
    "We will generate a test dataset with 200 instances (100 instances per category).\n",
    "\n",
    "Finally, we will plot the dataset distribution (attribute) per category."
   ]
  },
  {
   "cell_type": "code",
   "execution_count": 3,
   "metadata": {},
   "outputs": [
    {
     "name": "stdout",
     "output_type": "stream",
     "text": [
      "Figure 1: Dataset distribution by category\n"
     ]
    },
    {
     "data": {
      "image/png": "[encoded data removed]",
      "text/plain": [
       "<Figure size 432x288 with 1 Axes>"
      ]
     },
     "metadata": {
      "needs_background": "light"
     },
     "output_type": "display_data"
    }
   ],
   "source": [
    "from kde_dataset_generator import dataset\n",
    "\n",
    "# Dataset params\n",
    "size = 200\n",
    "n_categories = 2\n",
    "seed = 8\n",
    "\n",
    "# Generate df\n",
    "df = dataset.generate_univariate_dataset(size, n_categories, seed)\n",
    "\n",
    "# Plot df\n",
    "print(\"Figure 1: Dataset distribution by category\")\n",
    "dataset.plot_univariate(df)\n"
   ]
  },
  {
   "cell_type": "markdown",
   "metadata": {},
   "source": [
    "Looking at the chart we can conclude that the test dataset was generated correclty. Even we can see the little overlap."
   ]
  },
  {
   "cell_type": "markdown",
   "metadata": {},
   "source": [
    "## KDEs\n",
    "\n",
    "We need to get the `KDEs` from the dataset distributions to estimate `PDFs`.\n",
    "\n",
    "We will always generate as many `KDEs` as there are categories. We will take instances associated to a specific category and build the `KDE` from them. Each instance will keep all attributes. That means `KDEs` are multidimensional (one dimension per attribute).\n",
    "\n",
    "For this case, we will calculate two `KDEs` (1 for category `0`, 1 for category `1`)."
   ]
  },
  {
   "cell_type": "code",
   "execution_count": 4,
   "metadata": {},
   "outputs": [],
   "source": [
    "from kde_dataset_generator import kde \n",
    "\n",
    "# Caculate KDEs\n",
    "kdes = kde.calculate_kdes(df)[0]"
   ]
  },
  {
   "cell_type": "markdown",
   "metadata": {},
   "source": [
    "To make sure `PDFs` estimation are right, we will plot category distributions using the previous calculated `KDEs`."
   ]
  },
  {
   "cell_type": "code",
   "execution_count": 5,
   "metadata": {},
   "outputs": [
    {
     "name": "stdout",
     "output_type": "stream",
     "text": [
      "Figure 2: Dataset distributions by category using KDEs based\n"
     ]
    },
    {
     "data": {
      "image/png": "[encoded data removed]",
      "text/plain": [
       "<Figure size 432x288 with 1 Axes>"
      ]
     },
     "metadata": {
      "needs_background": "light"
     },
     "output_type": "display_data"
    }
   ],
   "source": [
    "print(\"Figure 2: Dataset distributions by category using KDEs based\")\n",
    "kde.plot_univariate(df, kdes)"
   ]
  },
  {
   "cell_type": "markdown",
   "metadata": {},
   "source": [
    "The distributions represented in charts are the same, so we concludes that `KDEs` are right."
   ]
  }
 ],
 "metadata": {
  "kernelspec": {
   "display_name": "Python 3.10.5 ('venv_kde_dataset_generator': venv)",
   "language": "python",
   "name": "python3"
  },
  "language_info": {
   "codemirror_mode": {
    "name": "ipython",
    "version": 3
   },
   "file_extension": ".py",
   "mimetype": "text/x-python",
   "name": "python",
   "nbconvert_exporter": "python",
   "pygments_lexer": "ipython3",
   "version": "3.10.5"
  },
  "orig_nbformat": 4,
  "vscode": {
   "interpreter": {
    "hash": "4d125740c8b74e0d2eda086c63230a1bb446a983fac9e9da4b88b1eb957b5a48"
   }
  }
 },
 "nbformat": 4,
 "nbformat_minor": 2
}
