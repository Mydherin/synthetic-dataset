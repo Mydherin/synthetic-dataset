{
 "cells": [
  {
   "cell_type": "markdown",
   "metadata": {},
   "source": [
    "# KDE Dataset Generation"
   ]
  },
  {
   "cell_type": "markdown",
   "metadata": {},
   "source": [
    "## Purpose\n",
    "\n",
    "We want to generate a new dataset from a dataset which can be smaller and/or bigger than the original dataset.\n",
    "\n",
    "This dataset also must be equivalent to the original which means that it must keep the same information which is contained in the original.\n",
    "\n",
    "We will believe that the dataset \"essence\" is contained in attribute and category distributions so we will estimate `Probabily Density Functions` (PDFs) from the original dataset using `Kernel Density Estimation` (KDE). The new dataset will be built from the original `PDFs`."
   ]
  }
 ],
 "metadata": {
  "kernelspec": {
   "display_name": "Python 3.10.5 ('venv_kde_dataset_generator': venv)",
   "language": "python",
   "name": "python3"
  },
  "language_info": {
   "name": "python",
   "version": "3.10.5"
  },
  "orig_nbformat": 4,
  "vscode": {
   "interpreter": {
    "hash": "4d125740c8b74e0d2eda086c63230a1bb446a983fac9e9da4b88b1eb957b5a48"
   }
  }
 },
 "nbformat": 4,
 "nbformat_minor": 2
}
