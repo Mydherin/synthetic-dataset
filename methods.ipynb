{
 "cells": [
  {
   "cell_type": "markdown",
   "metadata": {},
   "source": [
    "# KDE Dataset Generator Methods"
   ]
  },
  {
   "cell_type": "markdown",
   "metadata": {},
   "source": [
    "## Test Dataset Generation\n",
    "\n",
    "Generate test dataset of 300 instances with 1 feature and 2 categories (150 instances per category)."
   ]
  },
  {
   "cell_type": "code",
   "execution_count": 3,
   "metadata": {},
   "outputs": [
    {
     "name": "stdout",
     "output_type": "stream",
     "text": [
      "            x  category\n",
      "0   -0.527931         0\n",
      "1    5.450932         1\n",
      "2    5.081201         1\n",
      "3   -1.076745         0\n",
      "4   -1.735132         0\n",
      "..        ...       ...\n",
      "295  4.720038         1\n",
      "296 -2.754472         0\n",
      "297 -1.171042         0\n",
      "298  2.755769         1\n",
      "299 -2.008903         0\n",
      "\n",
      "[300 rows x 2 columns]\n"
     ]
    }
   ],
   "source": [
    "from kde_dataset_generator.generate import generate_test_dataset\n",
    "\n",
    "# Dataset params\n",
    "size = 300\n",
    "n_categories = 2\n",
    "seed = 1\n",
    "\n",
    "df = generate_test_dataset(size, n_categories, seed)\n",
    "\n",
    "print(df)"
   ]
  }
 ],
 "metadata": {
  "kernelspec": {
   "display_name": "Python 3.10.5 ('venv_kde_dataset_generator': venv)",
   "language": "python",
   "name": "python3"
  },
  "language_info": {
   "codemirror_mode": {
    "name": "ipython",
    "version": 3
   },
   "file_extension": ".py",
   "mimetype": "text/x-python",
   "name": "python",
   "nbconvert_exporter": "python",
   "pygments_lexer": "ipython3",
   "version": "3.10.5"
  },
  "orig_nbformat": 4,
  "vscode": {
   "interpreter": {
    "hash": "4d125740c8b74e0d2eda086c63230a1bb446a983fac9e9da4b88b1eb957b5a48"
   }
  }
 },
 "nbformat": 4,
 "nbformat_minor": 2
}
