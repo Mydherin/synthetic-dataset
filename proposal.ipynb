{
 "cells": [
  {
   "cell_type": "markdown",
   "metadata": {},
   "source": [
    "# KDE Dataset Generation"
   ]
  },
  {
   "cell_type": "markdown",
   "metadata": {},
   "source": [
    "The purpose of this project is to extract the essence of the dataset and generate a new dataset (bigger and/or smaller) from this.\n",
    "\n",
    "We supposed that dataset essence is in the dataset distribution (attributes and categories). So we will estimate `PDFs` (`PDF` by category) from original dataset using `Kernel Density Estimation` and generate new datasets from them."
   ]
  },
  {
   "cell_type": "markdown",
   "metadata": {},
   "source": [
    "## Test Dataset\n",
    "\n",
    "A test dataset will be necesarry to simplify the proposal analysis, development and testing.\n",
    "\n",
    "The test dataset must have one attribute and 2 categories. Overlap between category distributions must be exist (just a little).\n",
    "\n",
    "The test dataset will be generted with 300 instances, 150 instances per category."
   ]
  },
  {
   "cell_type": "code",
   "execution_count": 41,
   "metadata": {},
   "outputs": [
    {
     "name": "stdout",
     "output_type": "stream",
     "text": [
      "Figure 1: Dataset distributions by category\n"
     ]
    },
    {
     "data": {
      "image/png": "[encoded data removed]",
      "text/plain": [
       "<Figure size 432x288 with 1 Axes>"
      ]
     },
     "metadata": {
      "needs_background": "light"
     },
     "output_type": "display_data"
    }
   ],
   "source": [
    "from kde_dataset_generator import dataset\n",
    "\n",
    "# Dataset params\n",
    "size = 200\n",
    "n_categories = 2\n",
    "seed = 8\n",
    "\n",
    "# Generate df\n",
    "df = dataset.generate_univariate_dataset(size, n_categories, seed)\n",
    "\n",
    "# Plot df\n",
    "print(\"Figure 1: Dataset distributions by category\")\n",
    "dataset.plot_univariate(df)\n"
   ]
  },
  {
   "cell_type": "markdown",
   "metadata": {},
   "source": [
    "## Calculate KDEs by category\n",
    "\n",
    "We needs to extract knowledge from dataset.\n",
    "\n",
    "To achieve this, `PDFs` will be estimated for each category using `KDE`.\n",
    "\n",
    "`KDE` is calculated by one category (values associated to a specific category) and all attributes.\n",
    "This means that `KDE` will be multidimensional in multivariate datasets."
   ]
  },
  {
   "cell_type": "code",
   "execution_count": 42,
   "metadata": {},
   "outputs": [],
   "source": [
    "from kde_dataset_generator import kde \n",
    "\n",
    "# Caculate KDEs\n",
    "kdes = kde.calculate_kdes(df)[0]"
   ]
  },
  {
   "cell_type": "markdown",
   "metadata": {},
   "source": [
    "To make sure `PDFs` estimation are right, we will plot category distributions using the previous calculated `KDEs`."
   ]
  },
  {
   "cell_type": "code",
   "execution_count": 43,
   "metadata": {},
   "outputs": [
    {
     "name": "stdout",
     "output_type": "stream",
     "text": [
      "Figure 2: Dataset distributions by category using KDEs based\n"
     ]
    },
    {
     "data": {
      "image/png": "[encoded data removed]",
      "text/plain": [
       "<Figure size 432x288 with 1 Axes>"
      ]
     },
     "metadata": {
      "needs_background": "light"
     },
     "output_type": "display_data"
    }
   ],
   "source": [
    "print(\"Figure 2: Dataset distributions by category using KDEs based\")\n",
    "kde.plot_univariate(df, kdes)"
   ]
  },
  {
   "cell_type": "markdown",
   "metadata": {},
   "source": [
    "The distributions represented in charts are the same, so we concludes that `KDEs` are right."
   ]
  },
  {
   "cell_type": "markdown",
   "metadata": {},
   "source": [
    "## The theorical method"
   ]
  },
  {
   "cell_type": "markdown",
   "metadata": {},
   "source": [
    "This method must generate a new dataset from original `KDEs`.\n",
    "\n",
    "To achieve this, method will iterate for each category.\n",
    "\n",
    "For an specific category, a support will be generated. This support will have instances that will be contained in category distribution space. Category distribution space are delimited by attribute ranges (min and max value) which means that every new instance attribute values must be contained in orignal attribute intervals.\n",
    "\n",
    "New instances automatically will be labeled with the category from they are based on.\n",
    "\n",
    "We will build a ranking by density which will be estimate for each instance using `KDE`.\n",
    "\n",
    "Finally, we will prune this ranking using an specific threshold (density).\n",
    "\n",
    "How to choose the optimal threshold for each dataset require an independant analysis. We will test some thresholds until get a similar distribution chart.\n",
    "\n",
    "To simplify the analysis we will only focus on one category distribution. To build a new dataset this method must be apply for each category distribution (one per category).\n",
    "\n",
    "We will plot category distribution in which we have focused."
   ]
  },
  {
   "cell_type": "code",
   "execution_count": 44,
   "metadata": {},
   "outputs": [
    {
     "name": "stdout",
     "output_type": "stream",
     "text": [
      "Figure 3: Filtered dataset distribution (1 attribute and category\n"
     ]
    },
    {
     "data": {
      "image/png": "[encoded data removed]",
      "text/plain": [
       "<Figure size 432x288 with 1 Axes>"
      ]
     },
     "metadata": {
      "needs_background": "light"
     },
     "output_type": "display_data"
    }
   ],
   "source": [
    "# Get dataset with only values associated to category 0\n",
    "filtered_df = df[df.iloc[:,-1] == 0]\n",
    "\n",
    "# Get filtered dataset KDEs\n",
    "filtered_kdes, filtered_ranges = kde.calculate_kdes(filtered_df)\n",
    "\n",
    "# Plot dataset distribution\n",
    "print(\"Figure 3: Filtered dataset distribution (1 attribute and category\") \n",
    "kde.plot_univariate(filtered_df, filtered_kdes)"
   ]
  },
  {
   "cell_type": "markdown",
   "metadata": {},
   "source": [
    "We will need to generate a properly support.\n",
    "\n",
    "This support must meet the following requesites:\n",
    "- Instances must be contain in dataset space.\n",
    "- There must be a significant number of instances which are relevant to original dataset.\n",
    "\n",
    "A several of methods of support generation can be designed. This methods must generate support with previous requesites.\n",
    "\n",
    "To test this proposal theorically, we are going to use an exahustive method which will generate an equally spaced support over all dataset space.\n",
    "\n",
    "The granularity grade of this support can be regulated increasing or decreasing the number of instances which make up the support.\n",
    "\n",
    "The optimal granularity grade depends of each dataset and would be an independant study to achieve it. We are going to use a granularity grade which allows to generate a support with enough number of relevant instances.\n",
    "\n",
    "If we want to extrapolate this method to multivariate dataset, new instances will be build from a cartesian product between all attribute supports. \n",
    "\n",
    "The exahustive method is useful for this stage (analysis and development) but it will be useless in practice because the method complexity is exponential which means that inifinite time will be needed to execute this method on relative small datasets. So it will be important to design an efficient method to generate the support.\n",
    "\n",
    "We will generate the support for our dataset with one attribute and one category."
   ]
  },
  {
   "cell_type": "code",
   "execution_count": 45,
   "metadata": {},
   "outputs": [],
   "source": [
    "import numpy as np\n",
    "\n",
    "# Get min value of the range\n",
    "min_value = filtered_df.iloc[:,0].min()\n",
    "# Get max value of the range\n",
    "max_value = filtered_df.iloc[:,0].max()\n",
    "# Define granularity\n",
    "granularity = 1000\n",
    "# Generate support\n",
    "support = np.linspace(min_value, max_value, granularity)"
   ]
  },
  {
   "cell_type": "markdown",
   "metadata": {},
   "source": [
    "This support will be our new dataset which looks like this."
   ]
  },
  {
   "cell_type": "code",
   "execution_count": 46,
   "metadata": {},
   "outputs": [
    {
     "name": "stdout",
     "output_type": "stream",
     "text": [
      "Figure 4: Raw new kde distribution\n"
     ]
    },
    {
     "data": {
      "image/png": "[encoded data removed]",
      "text/plain": [
       "<Figure size 432x288 with 1 Axes>"
      ]
     },
     "metadata": {
      "needs_background": "light"
     },
     "output_type": "display_data"
    }
   ],
   "source": [
    "import pandas as pd\n",
    "\n",
    "# Define new dataset\n",
    "new_df = pd.DataFrame(dict(x=support, category=np.full(granularity,0)))\n",
    "\n",
    "# Plot new dataset\n",
    "print(\"Figure 4: Raw new kde distribution\")\n",
    "dataset.plot_univariate(new_df)\n"
   ]
  },
  {
   "cell_type": "markdown",
   "metadata": {},
   "source": [
    "The new dataset distribution is shaped like a rectangle and does not look like the original.\n",
    "\n",
    "We will use the `KDE` of the original distribution to reshape this rectangle until getting the correct shape.\n",
    "\n",
    "We will reshape the support making a ranking by density (calculating the density for each support value using the original `KDE`) and pruning this ranking by a specific threshold.\n",
    "\n",
    "As a first step we will estimate densities for each instance."
   ]
  },
  {
   "cell_type": "code",
   "execution_count": 47,
   "metadata": {},
   "outputs": [],
   "source": [
    "# Calculate densities for each instance\n",
    "densities = kde.estimate_density(new_df, filtered_kdes)"
   ]
  },
  {
   "cell_type": "markdown",
   "metadata": {},
   "source": [
    "We will build a density ranking sorting (descendant) new dataset instances by density."
   ]
  },
  {
   "cell_type": "code",
   "execution_count": 48,
   "metadata": {},
   "outputs": [],
   "source": [
    "# Build ranking from new df\n",
    "ranking = kde.build_ranking(densities)"
   ]
  },
  {
   "cell_type": "markdown",
   "metadata": {},
   "source": [
    "\n",
    "We will prune the ranking using a specify threshold getting the final distribution. The threshold value represents the amount of instances which will take from to top to build the final dataset."
   ]
  },
  {
   "cell_type": "code",
   "execution_count": 49,
   "metadata": {},
   "outputs": [
    {
     "name": "stderr",
     "output_type": "stream",
     "text": [
      "/tmp/ipykernel_19859/1238975863.py:6: FutureWarning: The frame.append method is deprecated and will be removed from pandas in a future version. Use pandas.concat instead.\n",
      "  new_df = new_df.append(prune_df, ignore_index=True)\n"
     ]
    }
   ],
   "source": [
    "# Define threshold\n",
    "threshold = 100\n",
    "# Prune the ranking\n",
    "prune_df = kde.prune(ranking, threshold)\n",
    "# Add instances from prune_df to original df\n",
    "new_df = new_df.append(prune_df, ignore_index=True)"
   ]
  },
  {
   "cell_type": "markdown",
   "metadata": {},
   "source": [
    "Now we have a new dataset. We will need to test the dataset distribution.\n",
    "\n",
    "To test the dataset distribution we are going to plot dataset distribution and compare the chart with original dataset distribution.\n"
   ]
  },
  {
   "cell_type": "code",
   "execution_count": 50,
   "metadata": {},
   "outputs": [
    {
     "data": {
      "image/png": "[encoded data removed]",
      "text/plain": [
       "<Figure size 432x288 with 1 Axes>"
      ]
     },
     "metadata": {
      "needs_background": "light"
     },
     "output_type": "display_data"
    }
   ],
   "source": [
    "# Plot new df\n",
    "new_kdes = kde.calculate_kdes(new_df)[0]\n",
    "kde.plot_univariate(new_df, new_kdes)"
   ]
  }
 ],
 "metadata": {
  "kernelspec": {
   "display_name": "Python 3 (ipykernel)",
   "language": "python",
   "name": "python3"
  },
  "language_info": {
   "codemirror_mode": {
    "name": "ipython",
    "version": 3
   },
   "file_extension": ".py",
   "mimetype": "text/x-python",
   "name": "python",
   "nbconvert_exporter": "python",
   "pygments_lexer": "ipython3",
   "version": "3.10.5"
  },
  "vscode": {
   "interpreter": {
    "hash": "4d125740c8b74e0d2eda086c63230a1bb446a983fac9e9da4b88b1eb957b5a48"
   }
  }
 },
 "nbformat": 4,
 "nbformat_minor": 2
}
