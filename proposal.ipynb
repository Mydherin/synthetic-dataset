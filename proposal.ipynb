{
 "cells": [
  {
   "cell_type": "markdown",
   "metadata": {},
   "source": [
    "# KDE Dataset Generation\n",
    "\n",
    "*Version 1.0.0*"
   ]
  },
  {
   "cell_type": "markdown",
   "metadata": {},
   "source": [
    "## Purpose\n",
    "\n",
    "The purpose of this prioject is to generate a new dataset from a original dataset. The new dataset can be smaller and/or bigger than the original. Also, the new dataset also must be equivalent to the original which means that it must keep the same information.\n",
    "\n",
    "We will believe that the dataset \"essence\" is contained in attribute and category distributions so we will estimate `Probabily Density Functions` (`PDFs`) from the original dataset using `Kernel Density Estimation` (`KDE`). The new dataset will be built from the original `PDFs`."
   ]
  },
  {
   "cell_type": "markdown",
   "metadata": {},
   "source": [
    "## Test Dataset Generation\n",
    "\n",
    "We will build a custom dataset to simplify the analysis, development and testing.\n",
    "\n",
    "We need a dataset with only one attribute and two categories. Besides, the category distributions must show a little overlap between them.\n",
    "\n",
    "We will generate a test dataset with 200 instances (100 instances per category).\n",
    "\n",
    "Finally, we will plot the dataset distribution (attribute) per category."
   ]
  },
  {
   "cell_type": "code",
   "execution_count": 1,
   "metadata": {},
   "outputs": [
    {
     "name": "stdout",
     "output_type": "stream",
     "text": [
      "Figure 1: Dataset distribution by category\n"
     ]
    },
    {
     "data": {
      "image/png": "[encoded data removed]",
      "text/plain": [
       "<Figure size 432x288 with 1 Axes>"
      ]
     },
     "metadata": {
      "needs_background": "light"
     },
     "output_type": "display_data"
    }
   ],
   "source": [
    "from kde_dataset_generator import dataset\n",
    "\n",
    "# Dataset params\n",
    "size = 200\n",
    "n_categories = 2\n",
    "seed = 8\n",
    "\n",
    "# Generate df\n",
    "df = dataset.generate_univariate_dataset(size, n_categories, seed)\n",
    "\n",
    "# Plot df\n",
    "print(\"Figure 1: Dataset distribution by category\")\n",
    "dataset.plot_univariate(df)\n"
   ]
  },
  {
   "cell_type": "markdown",
   "metadata": {},
   "source": [
    "Looking at the chart we can conclude that the test dataset was generated correclty. Even we can see the little overlap."
   ]
  },
  {
   "cell_type": "markdown",
   "metadata": {},
   "source": [
    "## KDEs\n",
    "\n",
    "We need to get the `KDEs` from the dataset distributions to estimate `PDFs`.\n",
    "\n",
    "We will always generate as many `KDEs` as there are categories. We will take instances associated to a specific category and build the `KDE` from them. Each instance will keep all attributes. That means `KDEs` are multidimensional (one dimension per attribute).\n",
    "\n",
    "For this case, we will calculate two `KDEs` (1 for category `0`, 1 for category `1`)."
   ]
  },
  {
   "cell_type": "code",
   "execution_count": 2,
   "metadata": {},
   "outputs": [],
   "source": [
    "from kde_dataset_generator import kde \n",
    "\n",
    "# Caculate KDEs\n",
    "kdes, ranges = kde.calculate_kdes(df)"
   ]
  },
  {
   "cell_type": "markdown",
   "metadata": {},
   "source": [
    "To make sure `PDFs` estimation are right, we will plot category distributions using the previous calculated `KDEs`."
   ]
  },
  {
   "cell_type": "code",
   "execution_count": 3,
   "metadata": {},
   "outputs": [
    {
     "name": "stdout",
     "output_type": "stream",
     "text": [
      "Figure 2: Dataset distributions by category using KDEs\n"
     ]
    },
    {
     "data": {
      "image/png": "[encoded data removed]",
      "text/plain": [
       "<Figure size 432x288 with 1 Axes>"
      ]
     },
     "metadata": {
      "needs_background": "light"
     },
     "output_type": "display_data"
    }
   ],
   "source": [
    "print(\"Figure 2: Dataset distributions by category using KDEs\")\n",
    "kde.plot_univariate(df, kdes)"
   ]
  },
  {
   "cell_type": "markdown",
   "metadata": {},
   "source": [
    "The distributions represented in charts are the same, so we concludes that `KDEs` are right."
   ]
  },
  {
   "cell_type": "markdown",
   "metadata": {},
   "source": [
    "## First method\n",
    "\n",
    "To generate the new dataset this method will generate instances randomly and label the new instances using previous `KDEs`.\n",
    "\n",
    "The possible attribute values of each instance must be contained in attribute intervals (one interval per attribute) which have been calculated from original attribute values.\n",
    "\n",
    "Once a new instance is generated we will estimate its density using each `KDE`. We will set the label associated to the `KDE` that gives biggest density. We will repeat this process until reach the amount of instances per category which have been defined previously. Instances associate to a category which is full will be discard.\n",
    "\n",
    "The minimun amount of instances per category is a parameter which depends of the dataset. To optimize this parameter we will need an another study. We will test with different values until getting enough instances to describe correctly each category distribution. We will check it comparing the charts.\n",
    "\n",
    "We are going to define attribute intervals."
   ]
  },
  {
   "cell_type": "code",
   "execution_count": 4,
   "metadata": {},
   "outputs": [],
   "source": [
    "# Get attribute intervals\n",
    "attribute_intervals = dataset.attribute_intervals(df)"
   ]
  },
  {
   "cell_type": "markdown",
   "metadata": {},
   "source": [
    "We are going to generate instances and label it until reach the target amount of new instances per category."
   ]
  },
  {
   "cell_type": "code",
   "execution_count": 5,
   "metadata": {},
   "outputs": [],
   "source": [
    "# Define amount of new instances per category\n",
    "n_instances = 1000\n",
    "# Build nw dataset\n",
    "new_df = kde.random_generation(n_instances, kdes, attribute_intervals, df.columns, seed)"
   ]
  },
  {
   "cell_type": "markdown",
   "metadata": {},
   "source": [
    "Now we will plot the new dataset distribution and compare it with the original dataset distribution."
   ]
  },
  {
   "cell_type": "code",
   "execution_count": 6,
   "metadata": {},
   "outputs": [
    {
     "name": "stdout",
     "output_type": "stream",
     "text": [
      "Figure 3: New Dataset generated using first method\n"
     ]
    },
    {
     "data": {
      "image/png": "[encoded data removed]",
      "text/plain": [
       "<Figure size 432x288 with 1 Axes>"
      ]
     },
     "metadata": {
      "needs_background": "light"
     },
     "output_type": "display_data"
    }
   ],
   "source": [
    "# Calculate new kdes of the new dataset\n",
    "new_kdes = kde.calculate_kdes(new_df)[0]\n",
    "\n",
    "# Plot new dataset\n",
    "print(\"Figure 3: New Dataset generated using first method\")\n",
    "kde.plot_univariate(new_df, new_kdes, ranges)"
   ]
  },
  {
   "cell_type": "markdown",
   "metadata": {},
   "source": [
    "The new dataset distribution is significantly different.\n",
    "\n",
    "We can see that the random instances are well labeled. But if we compare each category distribution with the original category distribution we will see that is not the same.\n",
    "\n",
    "The reason behind of these differences may be that all attribute values have the same probability of appearing but in distributions some values must have more propability of appearing than others.\n",
    "\n",
    "The current version of this method does not converge."
   ]
  },
  {
   "cell_type": "markdown",
   "metadata": {},
   "source": [
    "## Second method"
   ]
  },
  {
   "cell_type": "markdown",
   "metadata": {},
   "source": [
    "In this method, we will generate relevant instances for each category distribution, we will estimate density (relevancy) for each instance and we will build a dataset which each relevant instances is correctly represented.\n",
    "\n",
    "We are going to generate each category distribution in a independant way. For each category distribution, we need to generate relevant instances which be called support. For each instance, we will estimate density using the previous `KDEs`. This density determines which instances are more significant for original category distribution so we will build a dataset which more relevant instances will be more represented. To achieve this we will introduce more occurrences of more important instances.\n",
    "\n",
    "There are different ways to generate the support. This topic would require a study to find an efficient method.\n",
    "\n",
    "We are going to use an exhaustive method which consist in generaing instances to cover all category distribution space. For example, in our test dataset, the attribute interval for category one is [7,12] so we will generate equally spaced instances between 7 and 12.\n",
    "\n",
    "The support adjustment to original category distribution can be managed increasing or decreasing the amount of support instances. We will call granularity to this parameter. To optimize the granularity we will need a specify study.\n",
    "\n",
    "To build the support in multivariate dataset cases we will generate each attribute support with the above method and do a cartesian product between all attribute support.\n",
    "\n",
    "If we think about exahustive method in a practical way, we will take into account that this method has an unacceptable complexity. So we will need to design more efficient methods in the future.\n",
    "\n",
    "We are going to generate the support."
   ]
  },
  {
   "cell_type": "code",
   "execution_count": 7,
   "metadata": {},
   "outputs": [],
   "source": [
    "# Define granularity\n",
    "granularity = 100\n",
    "\n",
    "# Generate supports\n",
    "new_df = kde.univariate_support(df, granularity)"
   ]
  },
  {
   "cell_type": "markdown",
   "metadata": {},
   "source": [
    "We are going to estimate density for each instance. We will use the original `KDEs` to achieve this. Each category KDE will be used with its category support instances."
   ]
  },
  {
   "cell_type": "code",
   "execution_count": 8,
   "metadata": {},
   "outputs": [],
   "source": [
    "# Calculate densities for each instance\n",
    "densities = kde.estimate_density(new_df, kdes)"
   ]
  },
  {
   "cell_type": "markdown",
   "metadata": {},
   "source": [
    "Now we know the density for each new instance. That means that we know the representation grade of each new instance relative to the original dataset. The goal is to modify the new dataset to get a correct representation for each instance.\n",
    "\n",
    "There are multiple ways to change instance representations in the dataset.\n",
    "\n",
    "We are going to increase the amount of the same instance using its density. That means instances with higher density will be appear more than instances with lower density. We will link to the instance with lowest density to an amount of one instance so to calculate the amount of duplicate instances for each instance we are going to divide the instance density between lowest density.\n",
    "\n",
    "We can think that duplicates instances adding redundant information and so it is. But there is no problem because it is just a method of get the correct instance representations and granularity is managed by support parameter. Nevertheless, there are alternatives to fix instances represention which do not involve duplicate instances. For example, we can search instance neighbours and add them.\n",
    "\n",
    "We are going to build the new dataset using the previous method."
   ]
  },
  {
   "cell_type": "code",
   "execution_count": 9,
   "metadata": {},
   "outputs": [],
   "source": [
    "# Adjust instance representations in the new dataset\n",
    "new_df = kde.adjust_representation(densities)"
   ]
  },
  {
   "cell_type": "markdown",
   "metadata": {},
   "source": [
    "Finally, we are going to plot new dataset and compare it with original dataset."
   ]
  },
  {
   "cell_type": "code",
   "execution_count": 10,
   "metadata": {},
   "outputs": [
    {
     "name": "stdout",
     "output_type": "stream",
     "text": [
      "Figure 4: New dataset generated using second method\n"
     ]
    },
    {
     "data": {
      "image/png": "[encoded data removed]",
      "text/plain": [
       "<Figure size 432x288 with 1 Axes>"
      ]
     },
     "metadata": {
      "needs_background": "light"
     },
     "output_type": "display_data"
    }
   ],
   "source": [
    "# Plot new df\n",
    "print(\"Figure 4: New dataset generated using second method\")\n",
    "new_kdes = kde.calculate_kdes(new_df)[0]\n",
    "kde.plot_univariate(new_df, new_kdes)"
   ]
  },
  {
   "cell_type": "markdown",
   "metadata": {},
   "source": [
    "If we compare the new dataset distribution with the original dataset distribution, we will see that they are the same so we can conclude that this method converges.\n",
    "\n",
    "The new dataset size is about 2000 instances. The instance amount has increased significantly but it is not very important. This result is to due to the support method and representation adjustment method used which can easily change for another methods which can reduce the number of instances. Even if we can not a method which give us a smaller dataset directly, we can design another `KDE` based method which can reduce dataset instances. For example, we can combine `KDE` with `MSE` to achieve this.\n",
    "\n",
    "The most important part of the proposal method is that we can generate an equivalent dataset with different values compared to the original values."
   ]
  },
  {
   "cell_type": "markdown",
   "metadata": {},
   "source": [
    "## Future changes\n",
    "\n",
    "The original purpose is generate an equivalent dataset from the original but with different values. For this, we will use `PDFs` which are estimated using `KDE`.\n",
    "\n",
    "We are found a [book section](https://web.mit.edu/urban_or_book/www/book/chapter7/7.1.3.html) in which there are apparently at leat 4 methods to generate samples from a `PDF`. These methods would be able to more efficient than the second method so we will be interesting analyze them."
   ]
  }
 ],
 "metadata": {
  "kernelspec": {
   "display_name": "Python 3 (ipykernel)",
   "language": "python",
   "name": "python3"
  },
  "language_info": {
   "codemirror_mode": {
    "name": "ipython",
    "version": 3
   },
   "file_extension": ".py",
   "mimetype": "text/x-python",
   "name": "python",
   "nbconvert_exporter": "python",
   "pygments_lexer": "ipython3",
   "version": "3.10.5"
  },
  "vscode": {
   "interpreter": {
    "hash": "4d125740c8b74e0d2eda086c63230a1bb446a983fac9e9da4b88b1eb957b5a48"
   }
  }
 },
 "nbformat": 4,
 "nbformat_minor": 2
}
